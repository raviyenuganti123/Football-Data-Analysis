{
 "cells": [
  {
   "cell_type": "markdown",
   "id": "c9be84ef-c2be-4a91-97a7-7462577dbf53",
   "metadata": {
    "jp-MarkdownHeadingCollapsed": true
   },
   "source": [
    "# Loading the Data"
   ]
  },
  {
   "cell_type": "code",
   "execution_count": null,
   "id": "2816a378-058c-484d-bea9-4296c234f993",
   "metadata": {},
   "outputs": [],
   "source": [
    "import numpy as np\n",
    "import pandas as pd"
   ]
  },
  {
   "cell_type": "code",
   "execution_count": null,
   "id": "05e8b25a-ace8-4889-8932-2fc9dd2ec802",
   "metadata": {
    "scrolled": true
   },
   "outputs": [],
   "source": [
    "appearences=pd.read_excel(\"appearances.xlsx\")\n",
    "appearences"
   ]
  },
  {
   "cell_type": "code",
   "execution_count": null,
   "id": "e2d92844-4c30-4a74-b1d4-8cf3124e3b99",
   "metadata": {
    "scrolled": true
   },
   "outputs": [],
   "source": [
    "game_events=pd.read_excel(\"game_events.xlsx\")\n",
    "game_events"
   ]
  },
  {
   "cell_type": "code",
   "execution_count": null,
   "id": "e7250121-5d31-4771-b7f6-7131993bb940",
   "metadata": {
    "scrolled": true
   },
   "outputs": [],
   "source": [
    "game_lineups=pd.read_excel(\"game_lineups.xlsx\")\n",
    "game_lineups"
   ]
  },
  {
   "cell_type": "code",
   "execution_count": null,
   "id": "0365a756-6522-4511-833d-789c382f723a",
   "metadata": {
    "scrolled": true
   },
   "outputs": [],
   "source": [
    "games=pd.read_excel(\"games.xlsx\")\n",
    "games"
   ]
  },
  {
   "cell_type": "code",
   "execution_count": null,
   "id": "0f11593c-73d6-4009-bc6e-849a0ba2c5cf",
   "metadata": {
    "scrolled": true
   },
   "outputs": [],
   "source": [
    "players=pd.read_excel(\"players.xlsx\")\n",
    "players"
   ]
  },
  {
   "cell_type": "code",
   "execution_count": null,
   "id": "4e169883-25db-4426-96c0-6994bf83cbd2",
   "metadata": {},
   "outputs": [],
   "source": []
  },
  {
   "cell_type": "markdown",
   "id": "c154656a-09c8-4026-af2a-570d2e6b6d20",
   "metadata": {
    "jp-MarkdownHeadingCollapsed": true
   },
   "source": [
    "# Data Merging"
   ]
  },
  {
   "cell_type": "code",
   "execution_count": null,
   "id": "758a4b1d-68ab-45d5-a634-42955453c6d4",
   "metadata": {
    "scrolled": true
   },
   "outputs": [],
   "source": [
    "df_events = game_events.merge(games,on=\"game_id\",how=\"left\")"
   ]
  },
  {
   "cell_type": "code",
   "execution_count": null,
   "id": "792c57ce-40a7-451e-8e8f-18c85c077dd2",
   "metadata": {
    "scrolled": true
   },
   "outputs": [],
   "source": [
    "df_events = df_events.merge(players,on=\"player_id\",how=\"left\")"
   ]
  },
  {
   "cell_type": "code",
   "execution_count": null,
   "id": "5003daca-d6ae-4a9b-a560-4bb56d3433b4",
   "metadata": {},
   "outputs": [],
   "source": []
  },
  {
   "cell_type": "code",
   "execution_count": null,
   "id": "5b527329-68e6-4809-a194-7b144df30167",
   "metadata": {
    "scrolled": true
   },
   "outputs": [],
   "source": [
    "df_apperences = appearences.merge(games,on=\"game_id\",how=\"left\")"
   ]
  },
  {
   "cell_type": "code",
   "execution_count": null,
   "id": "27103984-a0c7-45f3-8e16-e5579436ad3a",
   "metadata": {},
   "outputs": [],
   "source": [
    "df_apperences=df_apperences.merge(players,on=\"player_id\",how=\"left\")"
   ]
  },
  {
   "cell_type": "code",
   "execution_count": null,
   "id": "0ffd8b6a-a102-4198-ab8e-41a0446ffd33",
   "metadata": {},
   "outputs": [],
   "source": []
  },
  {
   "cell_type": "code",
   "execution_count": null,
   "id": "56c2be72-2608-48bf-9a6c-007b3fb34731",
   "metadata": {},
   "outputs": [],
   "source": [
    "df_lineups = game_lineups.merge(games,on=\"game_id\",how=\"left\")"
   ]
  },
  {
   "cell_type": "code",
   "execution_count": null,
   "id": "4efab315-d076-4823-aa04-01d08f3b7f3b",
   "metadata": {
    "scrolled": true
   },
   "outputs": [],
   "source": [
    "df_lineups=df_lineups.merge(players,on=\"player_id\",how=\"left\")"
   ]
  },
  {
   "cell_type": "code",
   "execution_count": null,
   "id": "347c6070-cff1-4c37-9a8f-1abefeff3cc4",
   "metadata": {},
   "outputs": [],
   "source": []
  },
  {
   "cell_type": "markdown",
   "id": "093aa4cc-fdcd-45ad-987b-a36dac6b815e",
   "metadata": {
    "jp-MarkdownHeadingCollapsed": true
   },
   "source": [
    "# Data Cleaning"
   ]
  },
  {
   "cell_type": "raw",
   "id": "d46be249-142c-4f38-8530-eeea559ff2c4",
   "metadata": {},
   "source": [
    "# Removing Reduntant columns from the data"
   ]
  },
  {
   "cell_type": "code",
   "execution_count": null,
   "id": "4b2c30bd-14b2-4d28-b704-9ccbe2db5c95",
   "metadata": {
    "scrolled": true
   },
   "outputs": [],
   "source": [
    "df_events=df_events.drop(columns=['date_y'])"
   ]
  },
  {
   "cell_type": "code",
   "execution_count": null,
   "id": "456e830d-2963-45d1-af37-cbb57706fee2",
   "metadata": {
    "scrolled": true
   },
   "outputs": [],
   "source": [
    "redundant=['date_y','competition_id_y',]\n",
    "df_apperences=df_apperences.drop(columns=redundant)"
   ]
  },
  {
   "cell_type": "code",
   "execution_count": null,
   "id": "803c2d76-5fb6-4c51-8380-121283284357",
   "metadata": {},
   "outputs": [],
   "source": [
    "df_lineups=df_lineups.drop(columns=['position_y'])"
   ]
  },
  {
   "cell_type": "code",
   "execution_count": null,
   "id": "231c3b99-92e9-47bd-9847-ce607612d6a6",
   "metadata": {},
   "outputs": [],
   "source": []
  },
  {
   "cell_type": "raw",
   "id": "392d9398-f8b2-4200-a54b-b379f4691a0b",
   "metadata": {},
   "source": [
    "# Cheking for null values and Treating the null values."
   ]
  },
  {
   "cell_type": "raw",
   "id": "f5792f0a-f8b9-4da6-aac6-0bf0a6cd6405",
   "metadata": {},
   "source": [
    "# Performing null value treatment"
   ]
  },
  {
   "cell_type": "code",
   "execution_count": null,
   "id": "bbbf43a4-2efc-437f-a3ca-7f7dcae4de65",
   "metadata": {
    "scrolled": true
   },
   "outputs": [],
   "source": [
    "# df_events\n",
    "# Seprating out the categorical and continuous variables\n",
    "\n",
    "def seprate_data_types(df_events):\n",
    "    categorical=[]\n",
    "    continuous = []\n",
    "    for column in df_events.columns:\n",
    "        if df_events[column].nunique() < 100:\n",
    "            categorical.append(column)\n",
    "        else:\n",
    "            continuous.append(column)\n",
    "    return categorical, continuous    \n",
    "categorical, continuous =seprate_data_types(df_events)\n",
    "table =[categorical, continuous]\n",
    "#Calling the function\n",
    "from tabulate import tabulate\n",
    "print(tabulate({\"Categorical\":categorical, \"continuous\": continuous},headers = [\"categorical\", \"continuous\"]))\n"
   ]
  },
  {
   "cell_type": "code",
   "execution_count": null,
   "id": "e22aa8b3-dec9-4a7c-9af1-c272fee0c0f5",
   "metadata": {},
   "outputs": [],
   "source": [
    "a=['type', 'description', 'player_id', 'player_assist_id', 'competition_id', 'season', 'round', 'home_club_goals', 'away_club_goals', 'home_club_position', \n",
    "   'away_club_position',  'aggregate', 'competition_type','game_event_id', 'home_club_manager_name', 'away_club_manager_name', 'stadium', 'attendance',\n",
    "   'referee', 'home_club_name', 'away_club_name','foot',\n",
    "       'height_in_cm', 'market_value_in_eur', 'highest_market_value_in_eur',\n",
    "       'contract_expiration_date', 'agent_name']\n",
    "for i in a:\n",
    "    df_events[i].fillna(df_events[i].mode()[0], inplace=True)\n",
    "    "
   ]
  },
  {
   "cell_type": "code",
   "execution_count": null,
   "id": "7a39b9a3-9061-4452-a5c6-bdaa92ca947c",
   "metadata": {},
   "outputs": [],
   "source": [
    "nan_columns=['home_club_formation','away_club_formation']                  # These columns having only nan values\n",
    "df_events=df_events.drop(columns=nan_columns)"
   ]
  },
  {
   "cell_type": "code",
   "execution_count": null,
   "id": "3d0c79db-f99e-4046-ab8d-2bd78f6ceebc",
   "metadata": {},
   "outputs": [],
   "source": []
  },
  {
   "cell_type": "code",
   "execution_count": null,
   "id": "07388d80-3985-4621-b4b9-f0e7f317e89e",
   "metadata": {
    "scrolled": true
   },
   "outputs": [],
   "source": [
    "b=[ 'date_x', 'game_id', 'minute','player_in_id']\n",
    "for i in b:\n",
    "    df_events[i].fillna(df_events[i].mean(), inplace=True)"
   ]
  },
  {
   "cell_type": "code",
   "execution_count": null,
   "id": "9e41d75d-fe23-4511-9a99-ae7131ea6df7",
   "metadata": {},
   "outputs": [],
   "source": [
    "df_events.columns"
   ]
  },
  {
   "cell_type": "code",
   "execution_count": null,
   "id": "924dcb57-0a15-4744-be1f-b1e3e6ed39ca",
   "metadata": {},
   "outputs": [],
   "source": [
    "df_events.isnull().sum()"
   ]
  },
  {
   "cell_type": "code",
   "execution_count": null,
   "id": "3e2f8bf3-8ac1-4483-a2e6-b65f00f9f11a",
   "metadata": {},
   "outputs": [],
   "source": []
  },
  {
   "cell_type": "code",
   "execution_count": null,
   "id": "fbf17efb-d2ca-45fc-a324-69ea50091ed1",
   "metadata": {},
   "outputs": [],
   "source": [
    "# df_apperences"
   ]
  },
  {
   "cell_type": "code",
   "execution_count": null,
   "id": "63493f01-4587-412e-8685-2765df6f3f1e",
   "metadata": {
    "scrolled": true
   },
   "outputs": [],
   "source": [
    "# Seprating out the categorical and continuous variables\n",
    "\n",
    "def seprate_data_types(df_apperences):\n",
    "    categorical=[]\n",
    "    continuous = []\n",
    "    for column in df_apperences.columns:\n",
    "        if df_apperences[column].nunique() < 100:\n",
    "            categorical.append(column)\n",
    "        else:\n",
    "            continuous.append(column)\n",
    "    return categorical, continuous    \n",
    "categorical, continuous =seprate_data_types(df_apperences)\n",
    "table =[categorical, continuous]\n",
    "#Calling the function\n",
    "from tabulate import tabulate\n",
    "print(tabulate({\"Categorical\":categorical, \"continuous\": continuous},headers = [\"categorical\", \"continuous\"]))\n"
   ]
  },
  {
   "cell_type": "code",
   "execution_count": null,
   "id": "7fffdd69-0868-4320-bc9f-938891d8f4ed",
   "metadata": {},
   "outputs": [],
   "source": [
    "c=[ 'foot','agent_name','player_id', 'player_name', 'competition_id_x', 'yellow_cards', 'red_cards', 'goals', 'assists', \n",
    "   'minutes_played', 'season', 'round', 'home_club_goals', 'away_club_goals', 'home_club_position', 'away_club_position', \n",
    "   'aggregate', 'competition_type', 'home_club_manager_name', 'away_club_manager_name', 'stadium', 'attendance', 'referee', \n",
    "   'home_club_name' ,'appearance_id', 'away_club_name']\n",
    "for i in c:\n",
    "    df_apperences[i].fillna(df_apperences[i].mode()[0], inplace=True)"
   ]
  },
  {
   "cell_type": "code",
   "execution_count": null,
   "id": "3f1a654f-5e2f-4609-b00e-151bee012307",
   "metadata": {},
   "outputs": [],
   "source": [
    "nan_columns=['home_club_formation','away_club_formation']                  # These columns having only nan values\n",
    "df_apperences=df_apperences.drop(columns=nan_columns)"
   ]
  },
  {
   "cell_type": "code",
   "execution_count": null,
   "id": "4f823543-437e-463d-b89f-71f62c370b76",
   "metadata": {
    "scrolled": true
   },
   "outputs": [],
   "source": [
    "d=['height_in_cm','game_id', 'date_x', 'market_value_in_eur','highest_market_value_in_eur', 'contract_expiration_date']\n",
    "for i in d:\n",
    "    df_apperences[i].fillna(df_apperences[i].mean(), inplace=True)"
   ]
  },
  {
   "cell_type": "code",
   "execution_count": null,
   "id": "523550c1-7126-4229-a992-4f2cc548cf20",
   "metadata": {
    "scrolled": true
   },
   "outputs": [],
   "source": [
    "df_apperences.isnull().sum()"
   ]
  },
  {
   "cell_type": "code",
   "execution_count": null,
   "id": "5fda207d-c259-43ec-b3d2-03497192b249",
   "metadata": {},
   "outputs": [],
   "source": []
  },
  {
   "cell_type": "raw",
   "id": "9db18784-8c1c-4514-b197-0892d98317cc",
   "metadata": {},
   "source": [
    "# df_lineups"
   ]
  },
  {
   "cell_type": "code",
   "execution_count": null,
   "id": "33d83bc7-923a-4f26-ba44-cbf81f0999c6",
   "metadata": {
    "scrolled": true
   },
   "outputs": [],
   "source": [
    "# Seprating out the categorical and continuous variables\n",
    "\n",
    "def seprate_data_types(df_lineups):\n",
    "    categorical=[]\n",
    "    continuous = []\n",
    "    for column in df_lineups.columns:\n",
    "        if df_lineups[column].nunique() < 30:\n",
    "            categorical.append(column)\n",
    "        else:\n",
    "            continuous.append(column)\n",
    "    return categorical, continuous    \n",
    "categorical, continuous =seprate_data_types(df_lineups)\n",
    "table =[categorical, continuous]\n",
    "#Calling the function\n",
    "from tabulate import tabulate\n",
    "print(tabulate({\"Categorical\":categorical, \"continuous\": continuous},headers = [\"categorical\", \"continuous\"]))\n"
   ]
  },
  {
   "cell_type": "code",
   "execution_count": null,
   "id": "5ca5a9f3-6a7a-41c3-886a-c25a4a5bdf11",
   "metadata": {
    "scrolled": true
   },
   "outputs": [],
   "source": [
    "e=['type', 'number', 'player_id', 'player_name', 'team_captain', 'position_x','name', 'last_season', 'current_club_id', 'player_code', \n",
    "   'country_of_birth', 'date_of_birth', 'sub_position', 'foot', 'height_in_cm','agent_name']\n",
    "for i in e:\n",
    "    df_lineups[i].fillna(df_lineups[i].mode()[0], inplace=True)"
   ]
  },
  {
   "cell_type": "code",
   "execution_count": null,
   "id": "fe5f9834-2cb5-4063-81ab-4c466bf490fa",
   "metadata": {
    "scrolled": true
   },
   "outputs": [],
   "source": [
    "nan_columns=['competition_id', 'season', 'round', 'date', 'home_club_goals', 'away_club_goals', 'home_club_position', 'away_club_position',\n",
    "             'home_club_manager_name', 'away_club_manager_name', 'stadium', 'attendance', 'referee', 'home_club_formation', 'away_club_formation', \n",
    "             'home_club_name', 'away_club_name', 'aggregate', 'competition_type']                  # These columns having only nan values\n",
    "df_lineups=df_lineups.drop(columns=nan_columns)"
   ]
  },
  {
   "cell_type": "code",
   "execution_count": null,
   "id": "f95b13b6-2982-49d1-9e3a-bdfbe9c81cb0",
   "metadata": {},
   "outputs": [],
   "source": [
    "f=['market_value_in_eur','highest_market_value_in_eur', 'contract_expiration_date', 'game_id']\n",
    "for i in f:\n",
    "    df_lineups[i].fillna(df_lineups[i].mean(), inplace=True)"
   ]
  },
  {
   "cell_type": "code",
   "execution_count": null,
   "id": "9d82faa5-67fa-407a-9933-3df4f4549472",
   "metadata": {},
   "outputs": [],
   "source": [
    "df_lineups.columns"
   ]
  },
  {
   "cell_type": "code",
   "execution_count": null,
   "id": "f5e2b464-0daa-439c-b55a-59ff90289f4a",
   "metadata": {},
   "outputs": [],
   "source": [
    "df_lineups.isnull().sum()"
   ]
  },
  {
   "cell_type": "code",
   "execution_count": null,
   "id": "1bf6c1ba-1804-486d-9b4e-be518cce9aaf",
   "metadata": {},
   "outputs": [],
   "source": []
  },
  {
   "cell_type": "markdown",
   "id": "50fb43be-1cf2-4520-acf3-287ec6d84347",
   "metadata": {
    "jp-MarkdownHeadingCollapsed": true
   },
   "source": [
    "# Saving the cleand file into csv"
   ]
  },
  {
   "cell_type": "code",
   "execution_count": null,
   "id": "8a8a8525-b938-4856-b22e-a83a6b800d6c",
   "metadata": {},
   "outputs": [],
   "source": [
    "df_events.to_csv(\"Football(events)_data_merged_cleaned.csv\")"
   ]
  },
  {
   "cell_type": "code",
   "execution_count": null,
   "id": "b95d21df-c30f-45b0-91f7-2724839b36e4",
   "metadata": {},
   "outputs": [],
   "source": [
    "df_apperences.to_csv(\"Football(apperences)_data_merged_cleaned.csv\")"
   ]
  },
  {
   "cell_type": "code",
   "execution_count": null,
   "id": "37487f2d-5bba-495b-9840-b3189b64ebeb",
   "metadata": {},
   "outputs": [],
   "source": [
    "df_lineups.to_csv(\"Football(lineups)_data_merged_cleaned.csv\")"
   ]
  },
  {
   "cell_type": "code",
   "execution_count": null,
   "id": "7fd0bf52-1b45-47a8-b1a8-447f6ec65b7e",
   "metadata": {},
   "outputs": [],
   "source": [
    "pd.read_csv(\"Football(lineups)_data_merged_cleaned.csv\").head()"
   ]
  },
  {
   "cell_type": "code",
   "execution_count": null,
   "id": "a7247904-68ef-4398-95a8-3c2d32d6267e",
   "metadata": {},
   "outputs": [],
   "source": []
  },
  {
   "cell_type": "code",
   "execution_count": null,
   "id": "121ada24-87da-4e7b-806c-63bb4e91b516",
   "metadata": {},
   "outputs": [],
   "source": [
    "df_events.columns"
   ]
  },
  {
   "cell_type": "code",
   "execution_count": null,
   "id": "ac2305be-503b-4f06-91df-8629846c09e3",
   "metadata": {},
   "outputs": [],
   "source": [
    "df_events.to_excel(\"Football(events)_data_merged_cleaned.xlsx\")\n",
    "df_apperences.to_excel(\"Football(apperences)_data_merged_cleaned.xlsx\")\n",
    "df_lineups.to_excel(\"Football(lineups)_data_merged_cleaned.xlsx\")"
   ]
  },
  {
   "cell_type": "code",
   "execution_count": null,
   "id": "400860d7-c69a-4290-a0e3-00034eb86d7a",
   "metadata": {},
   "outputs": [],
   "source": []
  }
 ],
 "metadata": {
  "kernelspec": {
   "display_name": "Python 3 (ipykernel)",
   "language": "python",
   "name": "python3"
  },
  "language_info": {
   "codemirror_mode": {
    "name": "ipython",
    "version": 3
   },
   "file_extension": ".py",
   "mimetype": "text/x-python",
   "name": "python",
   "nbconvert_exporter": "python",
   "pygments_lexer": "ipython3",
   "version": "3.11.7"
  }
 },
 "nbformat": 4,
 "nbformat_minor": 5
}
